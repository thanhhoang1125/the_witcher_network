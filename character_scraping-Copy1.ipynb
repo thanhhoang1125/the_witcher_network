{
 "cells": [
  {
   "cell_type": "code",
   "execution_count": 1,
   "id": "4f844d8e-a386-4d22-97ee-f649f4a07474",
   "metadata": {
    "tags": []
   },
   "outputs": [],
   "source": [
    "import pandas as pd\n",
    "import time\n",
    "from selenium import webdriver\n",
    "from webdriver_manager.chrome import ChromeDriverManager\n",
    "from selenium.webdriver.common.by import By\n",
    "from selenium.webdriver.chrome.service import Service\n",
    "from selenium.webdriver.chrome.options import Options\n",
    "import matplotlib.pyplot as plt\n",
    "import os\n",
    "import logging"
   ]
  },
  {
   "cell_type": "markdown",
   "id": "0eaf018b-2d48-4a48-93e5-796f3be61d95",
   "metadata": {
    "tags": []
   },
   "source": [
    "### Full code"
   ]
  },
  {
   "cell_type": "code",
   "execution_count": null,
   "id": "550250ea-7e7e-4080-b674-f364ad8165ec",
   "metadata": {},
   "outputs": [],
   "source": [
    "driver = webdriver.Chrome(service = webdriver_service, options = chrome_options)"
   ]
  },
  {
   "cell_type": "code",
   "execution_count": 2,
   "id": "4494b517-d884-4467-a603-1f75cd38b675",
   "metadata": {},
   "outputs": [
    {
     "name": "stderr",
     "output_type": "stream",
     "text": [
      "[WDM] - Downloading: 100%|█████████████████████████████████████████████████████████| 6.79M/6.79M [00:20<00:00, 348kB/s]\n"
     ]
    }
   ],
   "source": [
    "## Setup chrome options\n",
    "chrome_options = Options()\n",
    "chrome_options.add_argument(\"--headless\") # Ensure GUI is off\n",
    "chrome_options.add_argument(\"--no-sandbox\")\n",
    "\n",
    "# Silent download of drivers\n",
    "logging.getLogger('WDM').setLevel(logging.NOTSET)\n",
    "os.environ['WDM_LOG'] = 'False'\n",
    "\n",
    "# Create service\n",
    "webdriver_service = Service(ChromeDriverManager().install())\n",
    "\n",
    "# Create driver: manipulate our browser\n",
    "driver = webdriver.Chrome(service = webdriver_service, options = chrome_options)\n",
    "\n",
    "# Go to the characters in books page\n",
    "page_url = \"https://witcher.fandom.com/wiki/Category:Characters_in_the_stories\"\n",
    "driver.get(page_url)\n",
    "\n",
    "# # Click on Accept cookies\n",
    "# time.sleep(3)\n",
    "# driver.find_element(By.XPATH, '//div[text()=\"ACCEPT\"]').click()\n",
    "\n",
    "# Find books\n",
    "book_categories = driver.find_elements(by=By.CLASS_NAME, value='category-page__member-link')\n",
    "\n",
    "books = []\n",
    "for category in book_categories:\n",
    "    book_url = category.get_attribute('href')\n",
    "    book_name = category.text\n",
    "    books.append({'book_name': book_name, \"url\": book_url})"
   ]
  },
  {
   "cell_type": "code",
   "execution_count": 3,
   "id": "34d8456a-8802-41d2-ae62-e12ce2e5cbaf",
   "metadata": {
    "tags": []
   },
   "outputs": [
    {
     "data": {
      "text/plain": [
       "[{'book_name': 'Category:Baptism of Fire characters',\n",
       "  'url': 'https://witcher.fandom.com/wiki/Category:Baptism_of_Fire_characters'},\n",
       " {'book_name': 'Category:Blood of Elves characters',\n",
       "  'url': 'https://witcher.fandom.com/wiki/Category:Blood_of_Elves_characters'},\n",
       " {'book_name': \"Godamba Thaess'en\",\n",
       "  'url': 'https://witcher.fandom.com/wiki/Godamba_Thaess%27en'},\n",
       " {'book_name': 'Category:Season of Storms characters',\n",
       "  'url': 'https://witcher.fandom.com/wiki/Category:Season_of_Storms_characters'},\n",
       " {'book_name': 'Category:Something Ends, Something Begins characters',\n",
       "  'url': 'https://witcher.fandom.com/wiki/Category:Something_Ends,_Something_Begins_characters'},\n",
       " {'book_name': 'Category:Sword of Destiny characters',\n",
       "  'url': 'https://witcher.fandom.com/wiki/Category:Sword_of_Destiny_characters'},\n",
       " {'book_name': 'Category:Szpony i kły characters',\n",
       "  'url': 'https://witcher.fandom.com/wiki/Category:Szpony_i_k%C5%82y_characters'},\n",
       " {'book_name': 'Category:Tales from the world of The Witcher characters',\n",
       "  'url': 'https://witcher.fandom.com/wiki/Category:Tales_from_the_world_of_The_Witcher_characters'},\n",
       " {'book_name': 'Category:The Lady of the Lake characters',\n",
       "  'url': 'https://witcher.fandom.com/wiki/Category:The_Lady_of_the_Lake_characters'},\n",
       " {'book_name': 'Category:The Last Wish characters',\n",
       "  'url': 'https://witcher.fandom.com/wiki/Category:The_Last_Wish_characters'},\n",
       " {'book_name': 'Category:The Tower of the Swallow characters',\n",
       "  'url': 'https://witcher.fandom.com/wiki/Category:The_Tower_of_the_Swallow_characters'},\n",
       " {'book_name': 'Category:Time of Contempt characters',\n",
       "  'url': 'https://witcher.fandom.com/wiki/Category:Time_of_Contempt_characters'}]"
      ]
     },
     "execution_count": 3,
     "metadata": {},
     "output_type": "execute_result"
    }
   ],
   "source": [
    "books"
   ]
  },
  {
   "cell_type": "code",
   "execution_count": 4,
   "id": "0e81d6b6-9bbc-4cb2-bbb8-8c9e57942e86",
   "metadata": {},
   "outputs": [
    {
     "ename": "TimeoutException",
     "evalue": "Message: timeout: Timed out receiving message from renderer: 299.019\n  (Session info: headless chrome=111.0.5563.111)\nStacktrace:\nBacktrace:\n\t(No symbol) [0x0093DCE3]\n\t(No symbol) [0x008D39D1]\n\t(No symbol) [0x007E4DA8]\n\t(No symbol) [0x007D80AF]\n\t(No symbol) [0x007D7EFC]\n\t(No symbol) [0x007D6BF6]\n\t(No symbol) [0x007D747A]\n\t(No symbol) [0x007DFF62]\n\t(No symbol) [0x007EA348]\n\t(No symbol) [0x007ECD46]\n\t(No symbol) [0x007D77D3]\n\t(No symbol) [0x007EA211]\n\t(No symbol) [0x0083D779]\n\t(No symbol) [0x0082ACC6]\n\t(No symbol) [0x00806F68]\n\t(No symbol) [0x008080CD]\n\tGetHandleVerifier [0x00BB3832+2506274]\n\tGetHandleVerifier [0x00BE9794+2727300]\n\tGetHandleVerifier [0x00BEE36C+2746716]\n\tGetHandleVerifier [0x009E6690+617600]\n\t(No symbol) [0x008DC712]\n\t(No symbol) [0x008E1FF8]\n\t(No symbol) [0x008E20DB]\n\t(No symbol) [0x008EC63B]\n\tBaseThreadInitThunk [0x766200F9+25]\n\tRtlGetAppContainerNamedObjectPath [0x77AA7BBE+286]\n\tRtlGetAppContainerNamedObjectPath [0x77AA7B8E+238]\n",
     "output_type": "error",
     "traceback": [
      "\u001b[1;31m---------------------------------------------------------------------------\u001b[0m",
      "\u001b[1;31mTimeoutException\u001b[0m                          Traceback (most recent call last)",
      "Cell \u001b[1;32mIn[4], line 5\u001b[0m\n\u001b[0;32m      1\u001b[0m character_list \u001b[38;5;241m=\u001b[39m []\n\u001b[0;32m      3\u001b[0m \u001b[38;5;28;01mfor\u001b[39;00m book \u001b[38;5;129;01min\u001b[39;00m books:\n\u001b[0;32m      4\u001b[0m     \u001b[38;5;66;03m# go to book page\u001b[39;00m\n\u001b[1;32m----> 5\u001b[0m     \u001b[43mdriver\u001b[49m\u001b[38;5;241;43m.\u001b[39;49m\u001b[43mget\u001b[49m\u001b[43m(\u001b[49m\u001b[43mbook\u001b[49m\u001b[43m[\u001b[49m\u001b[38;5;124;43m'\u001b[39;49m\u001b[38;5;124;43murl\u001b[39;49m\u001b[38;5;124;43m'\u001b[39;49m\u001b[43m]\u001b[49m\u001b[43m)\u001b[49m\n\u001b[0;32m      7\u001b[0m     character_elems \u001b[38;5;241m=\u001b[39m driver\u001b[38;5;241m.\u001b[39mfind_elements(by\u001b[38;5;241m=\u001b[39mBy\u001b[38;5;241m.\u001b[39mCLASS_NAME, value \u001b[38;5;241m=\u001b[39m \u001b[38;5;124m'\u001b[39m\u001b[38;5;124mcategory-page__member-link\u001b[39m\u001b[38;5;124m'\u001b[39m)\n\u001b[0;32m      9\u001b[0m     \u001b[38;5;28;01mfor\u001b[39;00m elem \u001b[38;5;129;01min\u001b[39;00m character_elems:\n",
      "File \u001b[1;32mc:\\users\\thai thanh\\appdata\\local\\programs\\python\\python39\\lib\\site-packages\\selenium\\webdriver\\remote\\webdriver.py:449\u001b[0m, in \u001b[0;36mWebDriver.get\u001b[1;34m(self, url)\u001b[0m\n\u001b[0;32m    447\u001b[0m \u001b[38;5;28;01mdef\u001b[39;00m \u001b[38;5;21mget\u001b[39m(\u001b[38;5;28mself\u001b[39m, url: \u001b[38;5;28mstr\u001b[39m) \u001b[38;5;241m-\u001b[39m\u001b[38;5;241m>\u001b[39m \u001b[38;5;28;01mNone\u001b[39;00m:\n\u001b[0;32m    448\u001b[0m \u001b[38;5;250m    \u001b[39m\u001b[38;5;124;03m\"\"\"Loads a web page in the current browser session.\"\"\"\u001b[39;00m\n\u001b[1;32m--> 449\u001b[0m     \u001b[38;5;28;43mself\u001b[39;49m\u001b[38;5;241;43m.\u001b[39;49m\u001b[43mexecute\u001b[49m\u001b[43m(\u001b[49m\u001b[43mCommand\u001b[49m\u001b[38;5;241;43m.\u001b[39;49m\u001b[43mGET\u001b[49m\u001b[43m,\u001b[49m\u001b[43m \u001b[49m\u001b[43m{\u001b[49m\u001b[38;5;124;43m\"\u001b[39;49m\u001b[38;5;124;43murl\u001b[39;49m\u001b[38;5;124;43m\"\u001b[39;49m\u001b[43m:\u001b[49m\u001b[43m \u001b[49m\u001b[43murl\u001b[49m\u001b[43m}\u001b[49m\u001b[43m)\u001b[49m\n",
      "File \u001b[1;32mc:\\users\\thai thanh\\appdata\\local\\programs\\python\\python39\\lib\\site-packages\\selenium\\webdriver\\remote\\webdriver.py:440\u001b[0m, in \u001b[0;36mWebDriver.execute\u001b[1;34m(self, driver_command, params)\u001b[0m\n\u001b[0;32m    438\u001b[0m response \u001b[38;5;241m=\u001b[39m \u001b[38;5;28mself\u001b[39m\u001b[38;5;241m.\u001b[39mcommand_executor\u001b[38;5;241m.\u001b[39mexecute(driver_command, params)\n\u001b[0;32m    439\u001b[0m \u001b[38;5;28;01mif\u001b[39;00m response:\n\u001b[1;32m--> 440\u001b[0m     \u001b[38;5;28;43mself\u001b[39;49m\u001b[38;5;241;43m.\u001b[39;49m\u001b[43merror_handler\u001b[49m\u001b[38;5;241;43m.\u001b[39;49m\u001b[43mcheck_response\u001b[49m\u001b[43m(\u001b[49m\u001b[43mresponse\u001b[49m\u001b[43m)\u001b[49m\n\u001b[0;32m    441\u001b[0m     response[\u001b[38;5;124m\"\u001b[39m\u001b[38;5;124mvalue\u001b[39m\u001b[38;5;124m\"\u001b[39m] \u001b[38;5;241m=\u001b[39m \u001b[38;5;28mself\u001b[39m\u001b[38;5;241m.\u001b[39m_unwrap_value(response\u001b[38;5;241m.\u001b[39mget(\u001b[38;5;124m\"\u001b[39m\u001b[38;5;124mvalue\u001b[39m\u001b[38;5;124m\"\u001b[39m, \u001b[38;5;28;01mNone\u001b[39;00m))\n\u001b[0;32m    442\u001b[0m     \u001b[38;5;28;01mreturn\u001b[39;00m response\n",
      "File \u001b[1;32mc:\\users\\thai thanh\\appdata\\local\\programs\\python\\python39\\lib\\site-packages\\selenium\\webdriver\\remote\\errorhandler.py:245\u001b[0m, in \u001b[0;36mErrorHandler.check_response\u001b[1;34m(self, response)\u001b[0m\n\u001b[0;32m    243\u001b[0m         alert_text \u001b[38;5;241m=\u001b[39m value[\u001b[38;5;124m\"\u001b[39m\u001b[38;5;124malert\u001b[39m\u001b[38;5;124m\"\u001b[39m]\u001b[38;5;241m.\u001b[39mget(\u001b[38;5;124m\"\u001b[39m\u001b[38;5;124mtext\u001b[39m\u001b[38;5;124m\"\u001b[39m)\n\u001b[0;32m    244\u001b[0m     \u001b[38;5;28;01mraise\u001b[39;00m exception_class(message, screen, stacktrace, alert_text)  \u001b[38;5;66;03m# type: ignore[call-arg]  # mypy is not smart enough here\u001b[39;00m\n\u001b[1;32m--> 245\u001b[0m \u001b[38;5;28;01mraise\u001b[39;00m exception_class(message, screen, stacktrace)\n",
      "\u001b[1;31mTimeoutException\u001b[0m: Message: timeout: Timed out receiving message from renderer: 299.019\n  (Session info: headless chrome=111.0.5563.111)\nStacktrace:\nBacktrace:\n\t(No symbol) [0x0093DCE3]\n\t(No symbol) [0x008D39D1]\n\t(No symbol) [0x007E4DA8]\n\t(No symbol) [0x007D80AF]\n\t(No symbol) [0x007D7EFC]\n\t(No symbol) [0x007D6BF6]\n\t(No symbol) [0x007D747A]\n\t(No symbol) [0x007DFF62]\n\t(No symbol) [0x007EA348]\n\t(No symbol) [0x007ECD46]\n\t(No symbol) [0x007D77D3]\n\t(No symbol) [0x007EA211]\n\t(No symbol) [0x0083D779]\n\t(No symbol) [0x0082ACC6]\n\t(No symbol) [0x00806F68]\n\t(No symbol) [0x008080CD]\n\tGetHandleVerifier [0x00BB3832+2506274]\n\tGetHandleVerifier [0x00BE9794+2727300]\n\tGetHandleVerifier [0x00BEE36C+2746716]\n\tGetHandleVerifier [0x009E6690+617600]\n\t(No symbol) [0x008DC712]\n\t(No symbol) [0x008E1FF8]\n\t(No symbol) [0x008E20DB]\n\t(No symbol) [0x008EC63B]\n\tBaseThreadInitThunk [0x766200F9+25]\n\tRtlGetAppContainerNamedObjectPath [0x77AA7BBE+286]\n\tRtlGetAppContainerNamedObjectPath [0x77AA7B8E+238]\n"
     ]
    }
   ],
   "source": [
    "character_list = []\n",
    "\n",
    "for book in books:\n",
    "    # go to book page\n",
    "    driver.get(book['url'])\n",
    "    \n",
    "    character_elems = driver.find_elements(by=By.CLASS_NAME, value = 'category-page__member-link')\n",
    "    \n",
    "    for elem in character_elems:\n",
    "        character_list.append({'book': book['book_name'],'character': elem.text})"
   ]
  },
  {
   "cell_type": "code",
   "execution_count": null,
   "id": "1f256959-1fb5-47df-803c-16bd8e1205fe",
   "metadata": {},
   "outputs": [],
   "source": [
    "pd.DataFrame(character_list)"
   ]
  },
  {
   "cell_type": "markdown",
   "id": "f9aac0b2-c977-4c5f-9765-189222a9cdf8",
   "metadata": {},
   "source": [
    "### Number of characters per book"
   ]
  },
  {
   "cell_type": "code",
   "execution_count": null,
   "id": "eb9924c7-34a3-4f85-a474-8d3f09c5dc71",
   "metadata": {},
   "outputs": [],
   "source": [
    "character_df = pd.DataFrame(character_list)\n",
    "\n",
    "character_df['book'].value_counts().plot(kind=\"bar\")\n",
    "plt.show()"
   ]
  }
 ],
 "metadata": {
  "interpreter": {
   "hash": "1193653cdb6284337d995a6936ec90c69e69999e34d3c5ce07249ec75991d921"
  },
  "kernelspec": {
   "display_name": "Python 3 (ipykernel)",
   "language": "python",
   "name": "python3"
  },
  "language_info": {
   "codemirror_mode": {
    "name": "ipython",
    "version": 3
   },
   "file_extension": ".py",
   "mimetype": "text/x-python",
   "name": "python",
   "nbconvert_exporter": "python",
   "pygments_lexer": "ipython3",
   "version": "3.9.2"
  }
 },
 "nbformat": 4,
 "nbformat_minor": 5
}
